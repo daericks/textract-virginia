{
 "cells": [
  {
   "cell_type": "code",
   "execution_count": null,
   "id": "ff7ed649",
   "metadata": {
    "ExecuteTime": {
     "end_time": "2022-12-04T22:41:21.567464Z",
     "start_time": "2022-12-04T22:41:20.484712Z"
    }
   },
   "outputs": [],
   "source": [
    "import pandas as pd"
   ]
  },
  {
   "cell_type": "code",
   "execution_count": null,
   "id": "5580de23",
   "metadata": {
    "ExecuteTime": {
     "end_time": "2022-12-04T22:41:21.605421Z",
     "start_time": "2022-12-04T22:41:21.570334Z"
    }
   },
   "outputs": [],
   "source": [
    "pd.options.display.max_rows=999\n",
    "pd.options.display.max_columns=999"
   ]
  },
  {
   "cell_type": "code",
   "execution_count": null,
   "id": "2af9f092",
   "metadata": {
    "ExecuteTime": {
     "end_time": "2022-12-04T22:41:21.661207Z",
     "start_time": "2022-12-04T22:41:21.624024Z"
    }
   },
   "outputs": [],
   "source": [
    "df = pd.read_csv('ALL-Annual Salaries Cities - ALL-Annual Salaries Cities.csv', \n",
    "                header=5, \n",
    "                na_values=['None', ''], keep_default_na=False, \n",
    "                low_memory=False)\n",
    "# df['Year'] = pd.to_datetime(df['Year'], format='%Y', errors='coerce') # running this here breaks pd.concat later"
   ]
  },
  {
   "cell_type": "code",
   "execution_count": null,
   "id": "402dae94",
   "metadata": {
    "ExecuteTime": {
     "end_time": "2022-12-04T22:41:21.906147Z",
     "start_time": "2022-12-04T22:41:21.669362Z"
    },
    "scrolled": true
   },
   "outputs": [],
   "source": [
    "df"
   ]
  },
  {
   "cell_type": "code",
   "execution_count": null,
   "id": "f75c1b92",
   "metadata": {
    "ExecuteTime": {
     "end_time": "2022-12-04T22:41:21.917588Z",
     "start_time": "2022-12-04T22:41:21.908660Z"
    },
    "scrolled": true
   },
   "outputs": [],
   "source": [
    "df.dtypes"
   ]
  },
  {
   "cell_type": "code",
   "execution_count": null,
   "id": "5cc4208e",
   "metadata": {
    "ExecuteTime": {
     "end_time": "2022-12-04T22:41:21.977094Z",
     "start_time": "2022-12-04T22:41:21.919816Z"
    }
   },
   "outputs": [],
   "source": [
    "header_idx_list = []\n",
    "for idx, ser in df.iterrows():\n",
    "    if ('Mayor' in ser.values) and ('City Manager' in ser.values):\n",
    "        print(idx)\n",
    "        header_idx_list.append(idx)"
   ]
  },
  {
   "cell_type": "code",
   "execution_count": null,
   "id": "2a1598b6",
   "metadata": {
    "ExecuteTime": {
     "end_time": "2022-12-04T22:41:21.991156Z",
     "start_time": "2022-12-04T22:41:21.981717Z"
    }
   },
   "outputs": [],
   "source": [
    "header_idx_list"
   ]
  },
  {
   "cell_type": "code",
   "execution_count": null,
   "id": "8d73d207",
   "metadata": {
    "ExecuteTime": {
     "end_time": "2022-12-04T22:41:22.007830Z",
     "start_time": "2022-12-04T22:41:21.997493Z"
    }
   },
   "outputs": [],
   "source": [
    "config = {\n",
    "    1954: {'start_row': 0, \n",
    "           'end_row': header_idx_list[0]-1}, \n",
    "    1955: {'start_row': header_idx_list[0], \n",
    "          'end_row': header_idx_list[1]-1}, \n",
    "    1956: {'start_row': header_idx_list[1], \n",
    "          'end_row': header_idx_list[2]-1}, \n",
    "    1957: {'start_row': header_idx_list[2], \n",
    "          'end_row': header_idx_list[3]-1}, \n",
    "    1958: {'start_row': header_idx_list[3], \n",
    "          'end_row': header_idx_list[4]-1}, \n",
    "    1959: {'start_row': header_idx_list[4], \n",
    "          'end_row': header_idx_list[5]-1}, \n",
    "    1960: {'start_row': header_idx_list[5], \n",
    "          'end_row': header_idx_list[6]-1}, \n",
    "    1961: {'start_row': header_idx_list[6], \n",
    "          'end_row': header_idx_list[7]-1}, \n",
    "    1962: {'start_row': header_idx_list[7], \n",
    "          'end_row': header_idx_list[8]-1}, \n",
    "    1963: {'start_row': header_idx_list[8], \n",
    "          'end_row': header_idx_list[9]-1}, \n",
    "    1964: {'start_row': header_idx_list[9], \n",
    "          'end_row': header_idx_list[10]-1}, \n",
    "    1965: {'start_row': header_idx_list[10], \n",
    "          'end_row': len(df)}\n",
    "}"
   ]
  },
  {
   "cell_type": "code",
   "execution_count": null,
   "id": "ce4a36b5",
   "metadata": {
    "ExecuteTime": {
     "end_time": "2022-12-04T22:41:22.042906Z",
     "start_time": "2022-12-04T22:41:22.012595Z"
    }
   },
   "outputs": [],
   "source": [
    "df_1954 = pd.DataFrame(df.iloc[config[1954]['start_row']+1: config[1954]['end_row']].values, \n",
    "        columns=df.columns)\n",
    "\n",
    "df_1955 = pd.DataFrame(df.iloc[config[1955]['start_row']+1: config[1955]['end_row']].values, \n",
    "        columns=df.iloc[config[1955]['start_row']])\n",
    "\n",
    "df_1956 = pd.DataFrame(df.iloc[config[1956]['start_row']+1: config[1956]['end_row']].values, \n",
    "        columns=df.iloc[config[1956]['start_row']])\n",
    "\n",
    "df_1957 = pd.DataFrame(df.iloc[config[1957]['start_row']+1: config[1957]['end_row']].values, \n",
    "       columns=df.iloc[config[1957]['start_row']])\n",
    "\n",
    "df_1958 = pd.DataFrame(df.iloc[config[1958]['start_row']+1: config[1958]['end_row']].values, \n",
    "       columns=df.iloc[config[1958]['start_row']])\n",
    "\n",
    "df_1959 = pd.DataFrame(df.iloc[config[1959]['start_row']+1: config[1959]['end_row']].values, \n",
    "       columns=df.iloc[config[1959]['start_row']])\n",
    "\n",
    "df_1960 = pd.DataFrame(df.iloc[config[1960]['start_row']+1: config[1960]['end_row']].values, \n",
    "       columns=df.iloc[config[1960]['start_row']])\n",
    "\n",
    "df_1961 = pd.DataFrame(df.iloc[config[1961]['start_row']+1: config[1961]['end_row']].values, \n",
    "       columns=df.iloc[config[1961]['start_row']])\n",
    "\n",
    "df_1962 = pd.DataFrame(df.iloc[config[1962]['start_row']+1: config[1962]['end_row']].values, \n",
    "       columns=df.iloc[config[1962]['start_row']])\n",
    "\n",
    "df_1963 = pd.DataFrame(df.iloc[config[1963]['start_row']+1: config[1963]['end_row']].values, \n",
    "       columns=df.iloc[config[1963]['start_row']])\n",
    "\n",
    "df_1964 = pd.DataFrame(df.iloc[config[1964]['start_row']+1: config[1964]['end_row']].values, \n",
    "       columns=df.iloc[config[1964]['start_row']])\n",
    "\n",
    "df_1965 = pd.DataFrame(df.iloc[config[1965]['start_row']+1: config[1965]['end_row']].values, \n",
    "                      columns=df.iloc[config[1965]['start_row']])"
   ]
  },
  {
   "cell_type": "code",
   "execution_count": null,
   "id": "7b9df813",
   "metadata": {
    "ExecuteTime": {
     "end_time": "2022-12-04T22:41:22.109654Z",
     "start_time": "2022-12-04T22:41:22.048036Z"
    }
   },
   "outputs": [],
   "source": [
    "def stripColNames(df):\n",
    "    df.columns = [str(c).strip() for c in df.columns]\n",
    "    df = df.dropna(axis=0, how='all')\n",
    "    df = df.dropna(axis=1, how='all')\n",
    "    df['Municipality'] = df['Municipality'].str.strip()\n",
    "    return df\n",
    "df_1954 = stripColNames(df_1954)\n",
    "df_1955 = stripColNames(df_1955)\n",
    "df_1956 = stripColNames(df_1956)\n",
    "df_1957 = stripColNames(df_1957)\n",
    "df_1958 = stripColNames(df_1958)\n",
    "df_1959 = stripColNames(df_1959)\n",
    "df_1960 = stripColNames(df_1960)\n",
    "df_1961 = stripColNames(df_1961)\n",
    "df_1962 = stripColNames(df_1962)\n",
    "df_1963 = stripColNames(df_1963)\n",
    "df_1964 = stripColNames(df_1964)\n",
    "df_1965 = stripColNames(df_1965)"
   ]
  },
  {
   "cell_type": "code",
   "execution_count": null,
   "id": "d25a6f0d",
   "metadata": {
    "ExecuteTime": {
     "end_time": "2022-12-04T22:41:22.173351Z",
     "start_time": "2022-12-04T22:41:22.113993Z"
    }
   },
   "outputs": [],
   "source": [
    "df_clean = pd.concat([df_1954, df_1955, df_1956, df_1957, df_1958, df_1959, \n",
    "                      df_1960, df_1961, df_1962, df_1963, df_1964, df_1965], \n",
    "                    ignore_index=True, \n",
    "                    axis=0)"
   ]
  },
  {
   "cell_type": "code",
   "execution_count": null,
   "id": "51dacdaf",
   "metadata": {
    "ExecuteTime": {
     "end_time": "2022-12-04T22:41:22.203151Z",
     "start_time": "2022-12-04T22:41:22.178001Z"
    },
    "scrolled": false
   },
   "outputs": [],
   "source": [
    "df_clean = df_clean.dropna(axis=0, how='all')\n",
    "df_clean = df_clean.dropna(axis=1, how='all')\n",
    "df_clean['Year'] = pd.to_datetime(df_clean['Year'], format='%Y', errors='coerce') "
   ]
  },
  {
   "cell_type": "code",
   "execution_count": null,
   "id": "1e0b6312",
   "metadata": {
    "ExecuteTime": {
     "end_time": "2022-12-04T22:41:22.251227Z",
     "start_time": "2022-12-04T22:41:22.206308Z"
    }
   },
   "outputs": [],
   "source": [
    "dupes_dict = {'Council- men': 'Councilmen', \n",
    "              'Council - men': 'Councilmen', \n",
    "              'Attorney City': 'City Attorney', \n",
    "              'Engineer City': 'City Engineer', \n",
    "              'Supt. of Schools': 'Superintendent of Schools', \n",
    "              'Chief Fire': 'Fire Chief', \n",
    "              'Chief Police': 'Police Chief', \n",
    "              'Comm. of Revenue': 'Commissioner of Revenue', \n",
    "              'Commissoner of Revenue': 'Commissioner of Revenue', \n",
    "              'Commissioner of Revenue ': 'Commissioner of Revenue', \n",
    "              'Commissioner of Revenue ': 'Commissioner of Revenue', \n",
    "              'Director Utilities': 'Director of Utilities', \n",
    "              'Director of Works Public': 'Director of Public Works', \n",
    "              'Building Inspector ': 'Building Inspector ', \n",
    "              'Director Recreation of': 'Director of Recreation', \n",
    "              'Other Heads': 'Other Department Heads', \n",
    "              'of Auditor': 'Auditor'\n",
    "             }\n",
    "for old, new in dupes_dict.items(): \n",
    "    try: \n",
    "        df_clean[new] = df_clean[new].combine_first(df_clean[old])\n",
    "        df_clean = df_clean.drop(columns=old)\n",
    "    except: \n",
    "        None"
   ]
  },
  {
   "cell_type": "code",
   "execution_count": null,
   "id": "f5d7ef22",
   "metadata": {
    "ExecuteTime": {
     "end_time": "2022-12-04T22:41:22.271828Z",
     "start_time": "2022-12-04T22:41:22.265707Z"
    }
   },
   "outputs": [],
   "source": [
    "sorted(df_clean.columns)"
   ]
  },
  {
   "cell_type": "code",
   "execution_count": null,
   "id": "89e1738a",
   "metadata": {
    "ExecuteTime": {
     "end_time": "2022-12-04T22:41:22.291110Z",
     "start_time": "2022-12-04T22:41:22.277294Z"
    },
    "scrolled": true
   },
   "outputs": [],
   "source": [
    "df_clean['Other Department Heads'][df_clean['Other Department Heads'].notna()]"
   ]
  },
  {
   "cell_type": "code",
   "execution_count": null,
   "id": "03343e8c",
   "metadata": {
    "ExecuteTime": {
     "end_time": "2022-12-04T22:41:22.306259Z",
     "start_time": "2022-12-04T22:41:22.297834Z"
    }
   },
   "outputs": [],
   "source": [
    "df_clean.dtypes"
   ]
  },
  {
   "cell_type": "code",
   "execution_count": null,
   "id": "e54ddd16",
   "metadata": {
    "ExecuteTime": {
     "end_time": "2022-12-04T22:41:22.553197Z",
     "start_time": "2022-12-04T22:41:22.310451Z"
    }
   },
   "outputs": [],
   "source": [
    "df_clean"
   ]
  },
  {
   "cell_type": "code",
   "execution_count": null,
   "id": "10bdfe4a",
   "metadata": {
    "ExecuteTime": {
     "end_time": "2022-12-04T23:07:33.203204Z",
     "start_time": "2022-12-04T23:07:33.176283Z"
    }
   },
   "outputs": [],
   "source": [
    "df_clean.to_csv('ALL-Annual-Salaries-Cities-2.csv', index=False)"
   ]
  },
  {
   "cell_type": "code",
   "execution_count": null,
   "id": "d70dfe68",
   "metadata": {
    "ExecuteTime": {
     "end_time": "2022-12-04T22:41:22.624388Z",
     "start_time": "2022-12-04T22:41:22.556238Z"
    }
   },
   "outputs": [],
   "source": [
    "df_clean.describe()"
   ]
  },
  {
   "cell_type": "code",
   "execution_count": null,
   "id": "f66e1ebc",
   "metadata": {
    "ExecuteTime": {
     "end_time": "2022-12-04T22:41:22.635321Z",
     "start_time": "2022-12-04T22:41:22.627380Z"
    }
   },
   "outputs": [],
   "source": [
    "#Count positions across all years and municipalities\n",
    "df_clean.notnull().sum().sort_values()"
   ]
  },
  {
   "cell_type": "code",
   "execution_count": null,
   "id": "3c74c10a",
   "metadata": {
    "ExecuteTime": {
     "end_time": "2022-12-04T22:41:22.670012Z",
     "start_time": "2022-12-04T22:41:22.637995Z"
    }
   },
   "outputs": [],
   "source": [
    "# Positions by Year\n",
    "df_clean.groupby('Year', dropna=True).count()"
   ]
  },
  {
   "cell_type": "code",
   "execution_count": null,
   "id": "9c07ba43",
   "metadata": {
    "ExecuteTime": {
     "end_time": "2022-12-04T22:41:22.690319Z",
     "start_time": "2022-12-04T22:41:22.673402Z"
    }
   },
   "outputs": [],
   "source": [
    "# Mean Positions\n",
    "ser_positions = df_clean.groupby('Year', dropna=True).count().mean().sort_values(ascending=False)\n",
    "ser_positions"
   ]
  },
  {
   "cell_type": "code",
   "execution_count": null,
   "id": "00e67aac",
   "metadata": {
    "ExecuteTime": {
     "end_time": "2022-12-04T22:41:22.714479Z",
     "start_time": "2022-12-04T22:41:22.693315Z"
    }
   },
   "outputs": [],
   "source": [
    "#Mean positions\n",
    "for c in [c for c in ser_positions.index if c!='Municipality']:\n",
    "    ser_positions[c] = ser_positions[c] / ser_positions['Municipality']\n",
    "ser_positions"
   ]
  },
  {
   "cell_type": "code",
   "execution_count": null,
   "id": "7981dfc6",
   "metadata": {
    "ExecuteTime": {
     "end_time": "2022-12-04T22:41:22.749977Z",
     "start_time": "2022-12-04T22:41:22.719185Z"
    }
   },
   "outputs": [],
   "source": [
    "# Median Positions\n",
    "ser_med_positions = df_clean.groupby('Year', dropna=True).count().median().sort_values(ascending=False)\n",
    "ser_med_positions"
   ]
  },
  {
   "cell_type": "code",
   "execution_count": null,
   "id": "f626d0f1",
   "metadata": {
    "ExecuteTime": {
     "end_time": "2022-12-04T22:41:22.775255Z",
     "start_time": "2022-12-04T22:41:22.754471Z"
    }
   },
   "outputs": [],
   "source": [
    "# Median positions\n",
    "for c in [c for c in ser_med_positions.index if c!='Municipality']:\n",
    "    ser_med_positions[c] = ser_med_positions[c] / ser_med_positions['Municipality']\n",
    "ser_med_positions"
   ]
  },
  {
   "cell_type": "code",
   "execution_count": null,
   "id": "53b0be07",
   "metadata": {
    "ExecuteTime": {
     "end_time": "2022-12-04T22:41:26.875809Z",
     "start_time": "2022-12-04T22:41:22.783135Z"
    }
   },
   "outputs": [],
   "source": [
    "! pip install seaborn\n",
    "import seaborn as sns\n",
    "sns.set()"
   ]
  },
  {
   "cell_type": "code",
   "execution_count": null,
   "id": "89695be6",
   "metadata": {
    "ExecuteTime": {
     "end_time": "2022-12-04T22:41:26.903502Z",
     "start_time": "2022-12-04T22:41:26.880554Z"
    }
   },
   "outputs": [],
   "source": [
    "#YoY Growth by Position \n",
    "df_growth = df_clean.groupby('Year').count()\n",
    "df_growth"
   ]
  },
  {
   "cell_type": "code",
   "execution_count": null,
   "id": "22234555",
   "metadata": {
    "ExecuteTime": {
     "end_time": "2022-12-04T22:41:26.972950Z",
     "start_time": "2022-12-04T22:41:26.908998Z"
    }
   },
   "outputs": [],
   "source": [
    "df_growth.describe()"
   ]
  },
  {
   "cell_type": "code",
   "execution_count": null,
   "id": "4c8a5614",
   "metadata": {
    "ExecuteTime": {
     "end_time": "2022-12-04T22:41:26.983081Z",
     "start_time": "2022-12-04T22:41:26.975375Z"
    }
   },
   "outputs": [],
   "source": [
    "mask_last = df_growth.index=='1965-01-01'\n",
    "mask_first = (df_growth.index=='1954-01-01')\n",
    "\n",
    "new_values= (df_growth[mask_last].values - df_growth[mask_first].values)[0]\n",
    "pd.Series(data= new_values, \n",
    "          index=df_growth.columns).sort_values()"
   ]
  },
  {
   "cell_type": "code",
   "execution_count": null,
   "id": "837aeae9",
   "metadata": {
    "ExecuteTime": {
     "end_time": "2022-12-04T22:41:29.112874Z",
     "start_time": "2022-12-04T22:41:26.986149Z"
    },
    "scrolled": false
   },
   "outputs": [],
   "source": [
    "df_long = df_growth.reset_index().melt(id_vars=['Year'])\n",
    "sns.relplot(data=df_long, x='Year', y='value', style='variable', hue='variable',\n",
    "           kind='line'\n",
    "           );"
   ]
  },
  {
   "cell_type": "code",
   "execution_count": null,
   "id": "6d647d4c",
   "metadata": {
    "ExecuteTime": {
     "end_time": "2022-12-04T22:41:29.163106Z",
     "start_time": "2022-12-04T22:41:29.115987Z"
    },
    "scrolled": false
   },
   "outputs": [],
   "source": [
    "# YoY Growth by Position\n",
    "df_growth = df_clean.groupby('Year').count().copy()\n",
    "\n",
    "keep_cols = [c for c in df_growth if c != 'Municipality']\n",
    "for c in keep_cols:\n",
    "    df_growth[c] = df_growth[c].divide(df_growth['Municipality'])\n",
    "# df_growth = df_growth.drop(columns=['Municipality'])\n",
    "df_growth"
   ]
  },
  {
   "cell_type": "code",
   "execution_count": null,
   "id": "eeca6ed8",
   "metadata": {
    "ExecuteTime": {
     "end_time": "2022-12-04T22:41:31.256867Z",
     "start_time": "2022-12-04T22:41:29.168179Z"
    }
   },
   "outputs": [],
   "source": [
    "keep_cols = [c for c in df_growth.columns if c!='Municipality']\n",
    "\n",
    "df_long = df_growth[keep_cols].reset_index().melt(id_vars=['Year'])\n",
    "sns.relplot(data=df_long, x='Year', y='value', style='variable', hue='variable',\n",
    "           kind='line'\n",
    "           );"
   ]
  },
  {
   "cell_type": "code",
   "execution_count": null,
   "id": "6a6c7ffd",
   "metadata": {
    "ExecuteTime": {
     "end_time": "2022-12-04T22:41:31.279946Z",
     "start_time": "2022-12-04T22:41:31.260342Z"
    },
    "scrolled": false
   },
   "outputs": [],
   "source": [
    "# Which cities employ the most positions\n",
    "df_city = df_clean.groupby(['Municipality']).count()\n",
    "position_cols = [c for c in df_city.columns if c!='Year']\n",
    "\n",
    "df_city['positionsPERyear'] = df_city[position_cols].sum(axis=1)\n",
    "df_city['positionsPERyear'] = df_city['positionsPERyear'] / df_city['Year']\n",
    "df_city = df_city.sort_values('positionsPERyear')\n",
    "df_city['positionsPERyear']"
   ]
  },
  {
   "cell_type": "markdown",
   "id": "250cf948",
   "metadata": {},
   "source": [
    "# Budgets"
   ]
  },
  {
   "cell_type": "code",
   "execution_count": null,
   "id": "3e2f6087",
   "metadata": {
    "ExecuteTime": {
     "end_time": "2022-12-04T22:43:23.091254Z",
     "start_time": "2022-12-04T22:43:22.883766Z"
    }
   },
   "outputs": [],
   "source": [
    "df_clean"
   ]
  },
  {
   "cell_type": "code",
   "execution_count": null,
   "id": "69842373",
   "metadata": {
    "ExecuteTime": {
     "end_time": "2022-12-04T22:45:02.375175Z",
     "start_time": "2022-12-04T22:45:02.372311Z"
    }
   },
   "outputs": [],
   "source": [
    "int_cols = [c for c in df_clean if c not in ['Year', 'Municipality']]"
   ]
  },
  {
   "cell_type": "code",
   "execution_count": null,
   "id": "477a9972",
   "metadata": {
    "ExecuteTime": {
     "end_time": "2022-12-04T22:48:17.828614Z",
     "start_time": "2022-12-04T22:48:17.576449Z"
    },
    "scrolled": true
   },
   "outputs": [],
   "source": [
    "df_budgets = df_clean.fillna(0)\n",
    "for c in int_cols:\n",
    "    df_budgets[c] = df_budgets[c].str.replace(\",\",\"\").astype()\n",
    "df_budgets"
   ]
  },
  {
   "cell_type": "code",
   "execution_count": null,
   "id": "bc06a508",
   "metadata": {},
   "outputs": [],
   "source": []
  },
  {
   "cell_type": "code",
   "execution_count": null,
   "id": "cf64c687",
   "metadata": {
    "ExecuteTime": {
     "end_time": "2022-12-04T22:43:46.962585Z",
     "start_time": "2022-12-04T22:43:46.954241Z"
    }
   },
   "outputs": [],
   "source": [
    "df_clean.dtypes"
   ]
  },
  {
   "cell_type": "code",
   "execution_count": null,
   "id": "3e9f0d2c",
   "metadata": {},
   "outputs": [],
   "source": []
  }
 ],
 "metadata": {
  "kernelspec": {
   "display_name": "Python 3 (ipykernel)",
   "language": "python",
   "name": "python3"
  },
  "language_info": {
   "codemirror_mode": {
    "name": "ipython",
    "version": 3
   },
   "file_extension": ".py",
   "mimetype": "text/x-python",
   "name": "python",
   "nbconvert_exporter": "python",
   "pygments_lexer": "ipython3",
   "version": "3.9.15"
  },
  "toc": {
   "base_numbering": 1,
   "nav_menu": {},
   "number_sections": true,
   "sideBar": true,
   "skip_h1_title": false,
   "title_cell": "Table of Contents",
   "title_sidebar": "Contents",
   "toc_cell": false,
   "toc_position": {},
   "toc_section_display": true,
   "toc_window_display": false
  }
 },
 "nbformat": 4,
 "nbformat_minor": 5
}

{
 "cells": [
  {
   "cell_type": "code",
   "execution_count": null,
   "id": "e13e776f",
   "metadata": {
    "ExecuteTime": {
     "end_time": "2021-09-14T17:06:31.004331Z",
     "start_time": "2021-09-14T17:06:31.001137Z"
    }
   },
   "outputs": [],
   "source": [
    "# JobID of document analysis\n",
    "JOBID= 'e65b673f999d48fdbfbb064a2b3ea62d9e9c57012997686442b9ea7231c914fa'"
   ]
  },
  {
   "cell_type": "code",
   "execution_count": null,
   "id": "fac8543c",
   "metadata": {
    "ExecuteTime": {
     "end_time": "2021-09-14T17:02:47.555946Z",
     "start_time": "2021-09-14T17:02:47.529172Z"
    }
   },
   "outputs": [],
   "source": [
    "# Config\n",
    "REGION = aws_region = boto3.session.Session().region_name # 'us-west-2'\n",
    "\n",
    "BUCKET = bucket_name = 'andrew-ocr'\n",
    "document_name = 'jpg-raw/IMG_0102.JPG'"
   ]
  },
  {
   "cell_type": "code",
   "execution_count": null,
   "id": "78467655",
   "metadata": {
    "ExecuteTime": {
     "end_time": "2021-09-14T17:02:48.293738Z",
     "start_time": "2021-09-14T17:02:47.865171Z"
    }
   },
   "outputs": [],
   "source": [
    "import boto3\n",
    "import io\n",
    "import json\n",
    "import uuid\n",
    "import botocore\n",
    "import time\n",
    "import botocore\n",
    "\n",
    "# Amazon SageMaker client\n",
    "sagemaker = boto3.client('sagemaker', REGION)\n",
    "\n",
    "# Amazon Textract client\n",
    "textract = boto3.client('textract', REGION)\n",
    "\n",
    "# S3 client\n",
    "s3 = boto3.client('s3', REGION)\n",
    "\n",
    "# A2I Runtime client\n",
    "a2i_runtime_client = boto3.client('sagemaker-a2i-runtime', REGION)"
   ]
  },
  {
   "cell_type": "code",
   "execution_count": null,
   "id": "daade660",
   "metadata": {
    "ExecuteTime": {
     "end_time": "2021-09-14T17:06:48.385415Z",
     "start_time": "2021-09-14T17:06:47.477071Z"
    }
   },
   "outputs": [],
   "source": [
    "analyzePDF_results = textract.get_document_analysis(JobId=JOBID)\n",
    "paginationToken= analyzePDF_results['NextToken']\n",
    "analyzePDF_results2 = textract.get_document_analysis(JobId=JOBID, NextToken=paginationToken)"
   ]
  },
  {
   "cell_type": "code",
   "execution_count": null,
   "id": "17ddaf1a",
   "metadata": {
    "ExecuteTime": {
     "end_time": "2021-09-14T17:15:56.749806Z",
     "start_time": "2021-09-14T17:15:52.036339Z"
    }
   },
   "outputs": [],
   "source": [
    "paginationToken2= analyzePDF_results2['NextToken']\n",
    "analyzePDF_results3 = textract.get_document_analysis(JobId=JOBID, NextToken=paginationToken2)"
   ]
  },
  {
   "cell_type": "code",
   "execution_count": null,
   "id": "ebeaabc2",
   "metadata": {
    "ExecuteTime": {
     "end_time": "2021-09-14T17:59:47.528917Z",
     "start_time": "2021-09-14T17:59:47.525514Z"
    }
   },
   "outputs": [],
   "source": [
    "from pprint import pprint"
   ]
  },
  {
   "cell_type": "code",
   "execution_count": null,
   "id": "f00d2dd0",
   "metadata": {
    "ExecuteTime": {
     "end_time": "2021-09-14T17:20:45.616077Z",
     "start_time": "2021-09-14T17:20:45.609234Z"
    }
   },
   "outputs": [],
   "source": [
    "# import pprint\n",
    "\n",
    "# # Pretty print setup\n",
    "# pp = pprint.PrettyPrinter(indent=2)\n",
    "\n",
    "# # Function to pretty-print AWS SDK responses\n",
    "# def print_response(response):\n",
    "#     if 'ResponseMetadata' in response:\n",
    "#         del response['ResponseMetadata']\n",
    "#     pp.pprint(response)"
   ]
  },
  {
   "cell_type": "code",
   "execution_count": null,
   "id": "107281fc",
   "metadata": {
    "ExecuteTime": {
     "end_time": "2021-09-14T17:20:46.167501Z",
     "start_time": "2021-09-14T17:20:46.159727Z"
    }
   },
   "outputs": [],
   "source": [
    "def get_csv(response):\n",
    "    # Get the text blocks\n",
    "    blocks=response['Blocks']\n",
    "    pprint(blocks)\n",
    "\n",
    "    blocks_map = {}\n",
    "    table_blocks = []\n",
    "    for block in blocks:\n",
    "        blocks_map[block['Id']] = block\n",
    "        if block['BlockType'] == \"TABLE\":\n",
    "            table_blocks.append(block)\n",
    "\n",
    "    if len(table_blocks) <= 0:\n",
    "        return \"<b> NO Table FOUND </b>\"\n",
    "\n",
    "    csv = ''\n",
    "    for index, table in enumerate(table_blocks):\n",
    "        csv += generate_table_csv(table, blocks_map, index +1)\n",
    "        csv += '\\n\\n'\n",
    "\n",
    "    return csv"
   ]
  },
  {
   "cell_type": "code",
   "execution_count": null,
   "id": "be05a458",
   "metadata": {
    "ExecuteTime": {
     "end_time": "2021-09-14T18:01:05.728117Z",
     "start_time": "2021-09-14T18:01:05.721662Z"
    }
   },
   "outputs": [],
   "source": [
    "def GetResults(jobId):\n",
    "    maxResults = 1000\n",
    "    paginationToken = None\n",
    "    finished = False\n",
    "    pages= []\n",
    "    while finished == False:\n",
    "        response = None\n",
    "#         if self.processType == ProcessType.ANALYSIS:\n",
    "        if paginationToken == None:\n",
    "#             response = self.textract.get_document_analysis(JobId=jobId, MaxResults=maxResults)\n",
    "            response = textract.get_document_analysis(JobId=jobId)\n",
    "        else:\n",
    "#             response = self.textract.get_document_analysis(JobId=jobId, MaxResults=maxResults, NextToken=paginationToken)\n",
    "            response = textract.get_document_analysis(JobId=jobId, NextToken=paginationToken)\n",
    "#         if self.processType == ProcessType.DETECTION:\n",
    "#            if paginationToken == None:\n",
    "#                response = self.textract.get_document_text_detection(JobId=jobId, MaxResults=maxResults)\n",
    "#            else:\n",
    "#                response = self.textract.get_document_text_detection(JobId=jobId,MaxResults=maxResults, NextToken=paginationToken)\n",
    "        blocks = response['Blocks']\n",
    "        print('Detected Document Text')\n",
    "        print('Pages: {}'.format(response['DocumentMetadata']['Pages']))\n",
    "        # Display block information\n",
    "#         for block in blocks:\n",
    "#            self.DisplayBlockInfo(block)\n",
    "#            print()\n",
    "#            print()\n",
    "        if 'NextToken' in response:\n",
    "           paginationToken = response['NextToken']\n",
    "        else:\n",
    "            finished = True\n",
    "#             return response\n",
    "    # Put response on pages list\n",
    "        pages.append(response)\n",
    "        print('Document Detected.')\n",
    "\n",
    "        if 'NextToken' in response:\n",
    "            paginationToken = response['NextToken']\n",
    "        else:\n",
    "            finished = True\n",
    "\n",
    "    # convert pages as JSON pattern\n",
    "    pages = json.dumps(pages)\n",
    "    return pages\n",
    "\n"
   ]
  },
  {
   "cell_type": "code",
   "execution_count": null,
   "id": "4ca20901",
   "metadata": {},
   "outputs": [],
   "source": []
  },
  {
   "cell_type": "code",
   "execution_count": null,
   "id": "1d9b8328",
   "metadata": {
    "ExecuteTime": {
     "end_time": "2021-09-14T17:20:47.288301Z",
     "start_time": "2021-09-14T17:20:47.283604Z"
    }
   },
   "outputs": [],
   "source": [
    "print(analyzePDF_results['DocumentMetadata'], \n",
    "     analyzePDF_results2['DocumentMetadata'], \n",
    "     analyzePDF_results3['DocumentMetadata'])"
   ]
  },
  {
   "cell_type": "code",
   "execution_count": null,
   "id": "d2e441df",
   "metadata": {
    "ExecuteTime": {
     "end_time": "2021-09-14T17:06:59.814414Z",
     "start_time": "2021-09-14T17:06:58.745213Z"
    }
   },
   "outputs": [],
   "source": [
    "analyzePDF_results"
   ]
  },
  {
   "cell_type": "code",
   "execution_count": null,
   "id": "2918071b",
   "metadata": {
    "ExecuteTime": {
     "end_time": "2021-09-14T17:07:04.911752Z",
     "start_time": "2021-09-14T17:07:03.851446Z"
    }
   },
   "outputs": [],
   "source": [
    "analyzePDF_results2"
   ]
  },
  {
   "cell_type": "code",
   "execution_count": null,
   "id": "6d10fda1",
   "metadata": {
    "ExecuteTime": {
     "end_time": "2021-09-14T17:12:33.191546Z",
     "start_time": "2021-09-14T17:12:33.180768Z"
    }
   },
   "outputs": [],
   "source": [
    "analyzePDF_results2.keys()"
   ]
  },
  {
   "cell_type": "code",
   "execution_count": null,
   "id": "7ac70fb4",
   "metadata": {
    "ExecuteTime": {
     "end_time": "2021-09-14T17:14:58.604792Z",
     "start_time": "2021-09-14T17:14:58.598820Z"
    }
   },
   "outputs": [],
   "source": [
    "analyzePDF_results2['NextToken']"
   ]
  },
  {
   "cell_type": "code",
   "execution_count": null,
   "id": "ac029d06",
   "metadata": {
    "ExecuteTime": {
     "end_time": "2021-09-14T18:00:01.681690Z",
     "start_time": "2021-09-14T17:59:55.393388Z"
    }
   },
   "outputs": [],
   "source": [
    "results_csv = get_csv(analyzePDF_results)"
   ]
  },
  {
   "cell_type": "code",
   "execution_count": null,
   "id": "3ae65b88",
   "metadata": {
    "ExecuteTime": {
     "end_time": "2021-09-14T18:02:08.993837Z",
     "start_time": "2021-09-14T18:01:24.227664Z"
    }
   },
   "outputs": [],
   "source": [
    "analyzePDF_results_all= GetResults(JOBID)"
   ]
  },
  {
   "cell_type": "code",
   "execution_count": null,
   "id": "1554a2d9",
   "metadata": {
    "ExecuteTime": {
     "end_time": "2021-09-14T18:08:18.308057Z",
     "start_time": "2021-09-14T18:08:17.003163Z"
    }
   },
   "outputs": [],
   "source": [
    "analyzePDF_results_all"
   ]
  },
  {
   "cell_type": "code",
   "execution_count": null,
   "id": "81eabe7d",
   "metadata": {
    "ExecuteTime": {
     "end_time": "2021-09-14T18:26:11.120629Z",
     "start_time": "2021-09-14T18:26:11.105988Z"
    }
   },
   "outputs": [],
   "source": [
    "len(analyzePDF_results_all)"
   ]
  },
  {
   "cell_type": "code",
   "execution_count": null,
   "id": "4e4870ae",
   "metadata": {
    "ExecuteTime": {
     "end_time": "2021-09-14T18:13:10.879272Z",
     "start_time": "2021-09-14T18:13:10.850208Z"
    }
   },
   "outputs": [],
   "source": [
    "analyzePDF_results_all.dtype()"
   ]
  },
  {
   "cell_type": "code",
   "execution_count": null,
   "id": "f416c4f9",
   "metadata": {
    "ExecuteTime": {
     "end_time": "2021-09-14T18:15:11.444431Z",
     "start_time": "2021-09-14T18:15:11.426178Z"
    }
   },
   "outputs": [],
   "source": [
    "s3"
   ]
  },
  {
   "cell_type": "code",
   "execution_count": null,
   "id": "e67464c8",
   "metadata": {
    "ExecuteTime": {
     "end_time": "2021-09-14T18:18:46.612505Z",
     "start_time": "2021-09-14T18:18:38.652182Z"
    }
   },
   "outputs": [],
   "source": [
    "outputInJsonText= str(analyzePDF_results_all)\n",
    "s3.put_object(Body=outputInJsonText, Bucket=BUCKET, Key='output-part1.json')\n",
    "# pdfTextExtractionS3ObjectName= "
   ]
  },
  {
   "cell_type": "code",
   "execution_count": null,
   "id": "240e4ae1",
   "metadata": {
    "ExecuteTime": {
     "end_time": "2021-09-14T18:26:27.367200Z",
     "start_time": "2021-09-14T18:26:26.199670Z"
    }
   },
   "outputs": [],
   "source": [
    "outputInJsonText"
   ]
  },
  {
   "cell_type": "code",
   "execution_count": null,
   "id": "0c8bfeea",
   "metadata": {},
   "outputs": [],
   "source": []
  }
 ],
 "metadata": {
  "kernelspec": {
   "display_name": "Python 3 (ipykernel)",
   "language": "python",
   "name": "python3"
  },
  "language_info": {
   "codemirror_mode": {
    "name": "ipython",
    "version": 3
   },
   "file_extension": ".py",
   "mimetype": "text/x-python",
   "name": "python",
   "nbconvert_exporter": "python",
   "pygments_lexer": "ipython3",
   "version": "3.9.9"
  },
  "toc": {
   "base_numbering": 1,
   "nav_menu": {},
   "number_sections": true,
   "sideBar": true,
   "skip_h1_title": false,
   "title_cell": "Table of Contents",
   "title_sidebar": "Contents",
   "toc_cell": false,
   "toc_position": {},
   "toc_section_display": true,
   "toc_window_display": false
  }
 },
 "nbformat": 4,
 "nbformat_minor": 5
}

{
 "cells": [
  {
   "cell_type": "code",
   "execution_count": 1,
   "id": "00f6f38d",
   "metadata": {
    "ExecuteTime": {
     "end_time": "2022-01-17T18:34:48.657842Z",
     "start_time": "2022-01-17T18:34:48.649387Z"
    }
   },
   "outputs": [],
   "source": [
    "subdir_name = 'pdfs/' # Include / as last char\n",
    "core_name = 'Town Revenues' # Use to Infer name.pdf output and also .csv filenames\n",
    "file_loc_in_bucket = 'jpg_organized/' + subdir_name + core_name + '.pdf'"
   ]
  },
  {
   "cell_type": "code",
   "execution_count": 2,
   "id": "2e7dfd1a",
   "metadata": {
    "ExecuteTime": {
     "end_time": "2022-01-17T18:34:49.206444Z",
     "start_time": "2022-01-17T18:34:48.664153Z"
    }
   },
   "outputs": [],
   "source": [
    "import boto3\n",
    "import textractor\n",
    "from textractprettyprinter.t_pretty_print import Pretty_Print_Table_Format, Textract_Pretty_Print, get_string"
   ]
  },
  {
   "cell_type": "code",
   "execution_count": 3,
   "id": "29cc3f87",
   "metadata": {
    "ExecuteTime": {
     "end_time": "2022-01-17T18:34:49.253326Z",
     "start_time": "2022-01-17T18:34:49.220275Z"
    }
   },
   "outputs": [],
   "source": [
    "# Config\n",
    "REGION = aws_region = boto3.session.Session().region_name # 'us-west-2'\n",
    "BUCKET = bucket_name = 'andrew-ocr'"
   ]
  },
  {
   "cell_type": "code",
   "execution_count": 4,
   "id": "de7cf951",
   "metadata": {
    "ExecuteTime": {
     "end_time": "2022-01-17T18:34:49.562025Z",
     "start_time": "2022-01-17T18:34:49.258951Z"
    }
   },
   "outputs": [],
   "source": [
    "s3 = boto3.client('s3', REGION)\n",
    "textract = boto3.client('textract', aws_region) "
   ]
  },
  {
   "cell_type": "code",
   "execution_count": 5,
   "id": "98a38142",
   "metadata": {
    "ExecuteTime": {
     "end_time": "2022-01-17T18:34:49.606136Z",
     "start_time": "2022-01-17T18:34:49.574897Z"
    }
   },
   "outputs": [
    {
     "data": {
      "text/plain": [
       "'For reference'"
      ]
     },
     "execution_count": 5,
     "metadata": {},
     "output_type": "execute_result"
    }
   ],
   "source": [
    "\"\"\"For reference\"\"\"\n",
    "# def analyze_pdf_document_with_a2i(document_name, bucket):\n",
    "#     response = textract.start_document_analysis(\n",
    "#         DocumentLocation={'S3Object': {'Bucket': bucket, 'Name': document_name}},\n",
    "#         FeatureTypes=[\"TABLES\", \"FORMS\"], \n",
    "# #         HumanLoopConfig=humanLoopConfig\n",
    "#     )\n",
    "#     return response"
   ]
  },
  {
   "cell_type": "code",
   "execution_count": 6,
   "id": "46e056e3",
   "metadata": {
    "ExecuteTime": {
     "end_time": "2022-01-17T18:34:49.887049Z",
     "start_time": "2022-01-17T18:34:49.621486Z"
    }
   },
   "outputs": [],
   "source": [
    "analyzePDF = textract.start_document_analysis(\n",
    "    DocumentLocation={'S3Object': {'Bucket': bucket_name, 'Name': file_loc_in_bucket}},\n",
    "    FeatureTypes=[\"TABLES\"] # Careful! TABLES, FORMS\n",
    ")\n",
    "\n",
    "analyzePDF_results= textract.get_document_analysis(\n",
    "    JobId=analyzePDF['JobId']\n",
    ")"
   ]
  },
  {
   "cell_type": "code",
   "execution_count": 7,
   "id": "9ab9b9fd",
   "metadata": {
    "ExecuteTime": {
     "end_time": "2022-01-17T18:34:49.898396Z",
     "start_time": "2022-01-17T18:34:49.890328Z"
    }
   },
   "outputs": [],
   "source": [
    "def GetResults(jobId):\n",
    "    maxResults = 1000\n",
    "    paginationToken = None\n",
    "    finished = False\n",
    "    pages= []\n",
    "    while finished == False:\n",
    "        response = None\n",
    "#         if self.processType == ProcessType.ANALYSIS:\n",
    "        if paginationToken == None:\n",
    "#             response = self.textract.get_document_analysis(JobId=jobId, MaxResults=maxResults)\n",
    "            response = textract.get_document_analysis(JobId=jobId)\n",
    "        else:\n",
    "#             response = self.textract.get_document_analysis(JobId=jobId, MaxResults=maxResults, NextToken=paginationToken)\n",
    "            response = textract.get_document_analysis(JobId=jobId, NextToken=paginationToken)\n",
    "#         if self.processType == ProcessType.DETECTION:\n",
    "#            if paginationToken == None:\n",
    "#                response = self.textract.get_document_text_detection(JobId=jobId, MaxResults=maxResults)\n",
    "#            else:\n",
    "#                response = self.textract.get_document_text_detection(JobId=jobId,MaxResults=maxResults, NextToken=paginationToken)\n",
    "        blocks = response['Blocks']\n",
    "        print('Detected Document Text')\n",
    "        print('Pages: {}'.format(response['DocumentMetadata']['Pages']))\n",
    "        # Display block information\n",
    "#         for block in blocks:\n",
    "#            self.DisplayBlockInfo(block)\n",
    "#            print()\n",
    "#            print()\n",
    "        if 'NextToken' in response:\n",
    "           paginationToken = response['NextToken']\n",
    "        else:\n",
    "            finished = True\n",
    "#             return response\n",
    "    # Put response on pages list\n",
    "        pages.append(response)\n",
    "        print('Document Detected.')\n",
    "\n",
    "        if 'NextToken' in response:\n",
    "            paginationToken = response['NextToken']\n",
    "        else:\n",
    "            finished = True\n",
    "\n",
    "    # convert pages as JSON pattern\n",
    "    pages = json.dumps(pages)\n",
    "    return pages\n",
    "\n"
   ]
  },
  {
   "cell_type": "markdown",
   "id": "d2997885",
   "metadata": {},
   "source": [
    "# Note: \n",
    "You may have to wait for results to finsh processing (in the cloud) before executing the rest of the cells. "
   ]
  },
  {
   "cell_type": "code",
   "execution_count": 12,
   "id": "ce286c8b",
   "metadata": {
    "ExecuteTime": {
     "end_time": "2022-01-17T18:36:14.049341Z",
     "start_time": "2022-01-17T18:36:09.048096Z"
    }
   },
   "outputs": [
    {
     "name": "stdout",
     "output_type": "stream",
     "text": [
      "Detected Document Text\n",
      "Pages: 15\n",
      "Document Detected.\n",
      "Detected Document Text\n",
      "Pages: 15\n",
      "Document Detected.\n",
      "Detected Document Text\n",
      "Pages: 15\n",
      "Document Detected.\n",
      "Detected Document Text\n",
      "Pages: 15\n",
      "Document Detected.\n",
      "Detected Document Text\n",
      "Pages: 15\n",
      "Document Detected.\n",
      "Detected Document Text\n",
      "Pages: 15\n",
      "Document Detected.\n",
      "Detected Document Text\n",
      "Pages: 15\n",
      "Document Detected.\n",
      "Detected Document Text\n",
      "Pages: 15\n",
      "Document Detected.\n",
      "Detected Document Text\n",
      "Pages: 15\n",
      "Document Detected.\n",
      "Detected Document Text\n",
      "Pages: 15\n",
      "Document Detected.\n",
      "Detected Document Text\n",
      "Pages: 15\n",
      "Document Detected.\n"
     ]
    },
    {
     "data": {
      "text/plain": [
       "{'ResponseMetadata': {'RequestId': '7GDGRGQ8W947Z6ZP',\n",
       "  'HostId': 'bVCCr6SGec6fjWhF44Q6JIcIanqfBnzSgAz/SVopqVQnQZk8VOVEwQqmT+j76go6ld9dVyG11sE=',\n",
       "  'HTTPStatusCode': 200,\n",
       "  'HTTPHeaders': {'x-amz-id-2': 'bVCCr6SGec6fjWhF44Q6JIcIanqfBnzSgAz/SVopqVQnQZk8VOVEwQqmT+j76go6ld9dVyG11sE=',\n",
       "   'x-amz-request-id': '7GDGRGQ8W947Z6ZP',\n",
       "   'date': 'Mon, 17 Jan 2022 18:36:14 GMT',\n",
       "   'x-amz-version-id': 'DWpP9LymmJu0UqX99w4mLrPFHMNyi9Fu',\n",
       "   'etag': '\"d23fd59a87eed7013e0a91c237e6bf0d\"',\n",
       "   'server': 'AmazonS3',\n",
       "   'content-length': '0'},\n",
       "  'RetryAttempts': 0},\n",
       " 'ETag': '\"d23fd59a87eed7013e0a91c237e6bf0d\"',\n",
       " 'VersionId': 'DWpP9LymmJu0UqX99w4mLrPFHMNyi9Fu'}"
      ]
     },
     "execution_count": 12,
     "metadata": {},
     "output_type": "execute_result"
    }
   ],
   "source": [
    "JOBID = analyzePDF['JobId']\n",
    "analyzePDF_results_all = GetResults(JOBID)\n",
    "outputInJsonText= str(analyzePDF_results_all)\n",
    "\n",
    "output_filename = core_name + '.json'\n",
    "s3.put_object(Body=outputInJsonText, Bucket=BUCKET, Key=output_filename)"
   ]
  },
  {
   "cell_type": "code",
   "execution_count": 13,
   "id": "511c38e1",
   "metadata": {
    "ExecuteTime": {
     "end_time": "2022-01-17T18:36:14.890595Z",
     "start_time": "2022-01-17T18:36:14.079695Z"
    }
   },
   "outputs": [],
   "source": [
    "output = s3.get_object(Bucket=BUCKET, Key=output_filename)\n",
    "\n",
    "streaming_obj = output['Body']\n",
    "string_data = streaming_obj.read().decode(\"utf-8\")\n",
    "\n",
    "json_data= json.loads(string_data)"
   ]
  },
  {
   "cell_type": "code",
   "execution_count": 14,
   "id": "0001ffef",
   "metadata": {
    "ExecuteTime": {
     "end_time": "2022-01-17T18:36:16.022002Z",
     "start_time": "2022-01-17T18:36:14.897361Z"
    }
   },
   "outputs": [],
   "source": [
    "textract_json = json_data\n",
    "textractor_csv = get_string(textract_json=textract_json,\n",
    "               table_format=Pretty_Print_Table_Format.csv,\n",
    "               output_type=[Textract_Pretty_Print.TABLES, Textract_Pretty_Print.FORMS])"
   ]
  },
  {
   "cell_type": "code",
   "execution_count": 15,
   "id": "7ac676c4",
   "metadata": {
    "ExecuteTime": {
     "end_time": "2022-01-17T18:36:16.068363Z",
     "start_time": "2022-01-17T18:36:16.060426Z"
    }
   },
   "outputs": [],
   "source": [
    "prefix= 'csvs/'\n",
    "output_file = prefix + core_name +'.csv'\n",
    "\n",
    "# replace content\n",
    "with open(output_file, \"wt\") as fout:\n",
    "    fout.write(textractor_csv)"
   ]
  },
  {
   "cell_type": "code",
   "execution_count": null,
   "id": "f55b96c5",
   "metadata": {},
   "outputs": [],
   "source": []
  }
 ],
 "metadata": {
  "kernelspec": {
   "display_name": "Python 3 (ipykernel)",
   "language": "python",
   "name": "python3"
  },
  "language_info": {
   "codemirror_mode": {
    "name": "ipython",
    "version": 3
   },
   "file_extension": ".py",
   "mimetype": "text/x-python",
   "name": "python",
   "nbconvert_exporter": "python",
   "pygments_lexer": "ipython3",
   "version": "3.9.9"
  },
  "toc": {
   "base_numbering": 1,
   "nav_menu": {},
   "number_sections": true,
   "sideBar": true,
   "skip_h1_title": false,
   "title_cell": "Table of Contents",
   "title_sidebar": "Contents",
   "toc_cell": false,
   "toc_position": {},
   "toc_section_display": true,
   "toc_window_display": false
  }
 },
 "nbformat": 4,
 "nbformat_minor": 5
}

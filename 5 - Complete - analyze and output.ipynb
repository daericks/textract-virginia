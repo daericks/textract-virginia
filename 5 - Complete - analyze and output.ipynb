{
 "cells": [
  {
   "cell_type": "code",
   "execution_count": 27,
   "id": "00f6f38d",
   "metadata": {
    "ExecuteTime": {
     "end_time": "2023-04-08T02:02:41.097860Z",
     "start_time": "2023-04-08T02:02:41.085700Z"
    }
   },
   "outputs": [],
   "source": [
    "subdir_name = 'pdfs-OCR-22_1030/' # Include / as last char\n",
    "core_name = 'Comparative Salaries for Cities' # Use to Infer name.pdf output and also .csv filenames\n",
    "file_loc_in_bucket = 'jpg_organized/' + subdir_name + core_name + '.pdf'"
   ]
  },
  {
   "cell_type": "code",
   "execution_count": 28,
   "id": "2e7dfd1a",
   "metadata": {
    "ExecuteTime": {
     "end_time": "2023-04-08T02:02:41.114776Z",
     "start_time": "2023-04-08T02:02:41.106454Z"
    }
   },
   "outputs": [],
   "source": [
    "import boto3\n",
    "import textractor\n",
    "from textractprettyprinter.t_pretty_print import Pretty_Print_Table_Format, Textract_Pretty_Print, get_string"
   ]
  },
  {
   "cell_type": "code",
   "execution_count": 29,
   "id": "29cc3f87",
   "metadata": {
    "ExecuteTime": {
     "end_time": "2023-04-08T02:02:41.166886Z",
     "start_time": "2023-04-08T02:02:41.121917Z"
    }
   },
   "outputs": [],
   "source": [
    "# Config\n",
    "REGION = aws_region = boto3.session.Session().region_name # 'us-west-2'\n",
    "BUCKET = bucket_name = 'andrew-ocr'"
   ]
  },
  {
   "cell_type": "code",
   "execution_count": 30,
   "id": "de7cf951",
   "metadata": {
    "ExecuteTime": {
     "end_time": "2023-04-08T02:02:41.217497Z",
     "start_time": "2023-04-08T02:02:41.187762Z"
    }
   },
   "outputs": [],
   "source": [
    "s3 = boto3.client('s3', REGION)\n",
    "textract = boto3.client('textract', aws_region) "
   ]
  },
  {
   "cell_type": "code",
   "execution_count": 31,
   "id": "98a38142",
   "metadata": {
    "ExecuteTime": {
     "end_time": "2023-04-08T02:02:41.232222Z",
     "start_time": "2023-04-08T02:02:41.220814Z"
    }
   },
   "outputs": [
    {
     "data": {
      "text/plain": [
       "'For reference'"
      ]
     },
     "execution_count": 31,
     "metadata": {},
     "output_type": "execute_result"
    }
   ],
   "source": [
    "\"\"\"For reference\"\"\"\n",
    "# def analyze_pdf_document_with_a2i(document_name, bucket):\n",
    "#     response = textract.start_document_analysis(\n",
    "#         DocumentLocation={'S3Object': {'Bucket': bucket, 'Name': document_name}},\n",
    "#         FeatureTypes=[\"TABLES\", \"FORMS\"], \n",
    "# #         HumanLoopConfig=humanLoopConfig\n",
    "#     )\n",
    "#     return response"
   ]
  },
  {
   "cell_type": "code",
   "execution_count": 32,
   "id": "46e056e3",
   "metadata": {
    "ExecuteTime": {
     "end_time": "2023-04-08T02:02:41.559852Z",
     "start_time": "2023-04-08T02:02:41.240705Z"
    }
   },
   "outputs": [],
   "source": [
    "analyzePDF = textract.start_document_analysis(\n",
    "    DocumentLocation={'S3Object': {'Bucket': bucket_name, 'Name': file_loc_in_bucket}},\n",
    "    FeatureTypes=[\"TABLES\"] # Careful! TABLES, FORMS\n",
    ")\n",
    "\n",
    "analyzePDF_results= textract.get_document_analysis(\n",
    "    JobId=analyzePDF['JobId']\n",
    ")"
   ]
  },
  {
   "cell_type": "code",
   "execution_count": 33,
   "id": "9ab9b9fd",
   "metadata": {
    "ExecuteTime": {
     "end_time": "2023-04-08T02:02:41.579262Z",
     "start_time": "2023-04-08T02:02:41.563283Z"
    }
   },
   "outputs": [],
   "source": [
    "def GetResults(jobId):\n",
    "    maxResults = 1000\n",
    "    paginationToken = None\n",
    "    finished = False\n",
    "    pages= []\n",
    "    while finished == False:\n",
    "        response = None\n",
    "#         if self.processType == ProcessType.ANALYSIS:\n",
    "        if paginationToken == None:\n",
    "#             response = self.textract.get_document_analysis(JobId=jobId, MaxResults=maxResults)\n",
    "            response = textract.get_document_analysis(JobId=jobId)\n",
    "        else:\n",
    "#             response = self.textract.get_document_analysis(JobId=jobId, MaxResults=maxResults, NextToken=paginationToken)\n",
    "            response = textract.get_document_analysis(JobId=jobId, NextToken=paginationToken)\n",
    "#         if self.processType == ProcessType.DETECTION:\n",
    "#            if paginationToken == None:\n",
    "#                response = self.textract.get_document_text_detection(JobId=jobId, MaxResults=maxResults)\n",
    "#            else:\n",
    "#                response = self.textract.get_document_text_detection(JobId=jobId,MaxResults=maxResults, NextToken=paginationToken)\n",
    "        blocks = response['Blocks']\n",
    "        print('Detected Document Text')\n",
    "        print('Pages: {}'.format(response['DocumentMetadata']['Pages']))\n",
    "        # Display block information\n",
    "#         for block in blocks:\n",
    "#            self.DisplayBlockInfo(block)\n",
    "#            print()\n",
    "#            print()\n",
    "        if 'NextToken' in response:\n",
    "           paginationToken = response['NextToken']\n",
    "        else:\n",
    "            finished = True\n",
    "#             return response\n",
    "    # Put response on pages list\n",
    "        pages.append(response)\n",
    "        print('Document Detected.')\n",
    "\n",
    "        if 'NextToken' in response:\n",
    "            paginationToken = response['NextToken']\n",
    "        else:\n",
    "            finished = True\n",
    "\n",
    "    # convert pages as JSON pattern\n",
    "    pages = json.dumps(pages)\n",
    "    return pages\n",
    "\n"
   ]
  },
  {
   "cell_type": "markdown",
   "id": "d2997885",
   "metadata": {},
   "source": [
    "# Note: \n",
    "You may have to wait for results to finsh processing (in the cloud) before executing the rest of the cells. "
   ]
  },
  {
   "cell_type": "code",
   "execution_count": 37,
   "id": "bfbfa1e9",
   "metadata": {
    "ExecuteTime": {
     "end_time": "2023-04-08T02:03:05.535237Z",
     "start_time": "2023-04-08T02:03:05.501764Z"
    }
   },
   "outputs": [
    {
     "data": {
      "text/plain": [
       "{'JobId': '6a4fc1f2cfa1d05924eae63ee62efb45d0e5c63df03df4c9c1071b2e78fa1156',\n",
       " 'ResponseMetadata': {'RequestId': '3e929a7d-2cf2-4c78-a8b8-9bcf47f4dff0',\n",
       "  'HTTPStatusCode': 200,\n",
       "  'HTTPHeaders': {'x-amzn-requestid': '3e929a7d-2cf2-4c78-a8b8-9bcf47f4dff0',\n",
       "   'content-type': 'application/x-amz-json-1.1',\n",
       "   'content-length': '76',\n",
       "   'date': 'Sat, 08 Apr 2023 02:02:41 GMT'},\n",
       "  'RetryAttempts': 0}}"
      ]
     },
     "execution_count": 37,
     "metadata": {},
     "output_type": "execute_result"
    }
   ],
   "source": [
    "analyzePDF"
   ]
  },
  {
   "cell_type": "code",
   "execution_count": 38,
   "id": "2ce64a54",
   "metadata": {
    "ExecuteTime": {
     "end_time": "2023-04-08T02:03:21.375523Z",
     "start_time": "2023-04-08T02:03:11.371531Z"
    }
   },
   "outputs": [],
   "source": [
    "from time import sleep\n",
    "sleep(10)"
   ]
  },
  {
   "cell_type": "code",
   "execution_count": 39,
   "id": "ce286c8b",
   "metadata": {
    "ExecuteTime": {
     "end_time": "2023-04-08T02:03:25.868661Z",
     "start_time": "2023-04-08T02:03:21.385316Z"
    },
    "scrolled": true
   },
   "outputs": [
    {
     "name": "stdout",
     "output_type": "stream",
     "text": [
      "Detected Document Text\n",
      "Pages: 12\n",
      "Document Detected.\n",
      "Detected Document Text\n",
      "Pages: 12\n",
      "Document Detected.\n",
      "Detected Document Text\n",
      "Pages: 12\n",
      "Document Detected.\n",
      "Detected Document Text\n",
      "Pages: 12\n",
      "Document Detected.\n",
      "Detected Document Text\n",
      "Pages: 12\n",
      "Document Detected.\n",
      "Detected Document Text\n",
      "Pages: 12\n",
      "Document Detected.\n"
     ]
    },
    {
     "data": {
      "text/plain": [
       "{'ResponseMetadata': {'RequestId': 'RSS6R848W3N8YDJ2',\n",
       "  'HostId': 'gYZcumfdbRNtHx3Wc0oFchDN22sO4wp3ooB4NB+BBNXRacdb47HTRU8nsYXjnG5hzX0VOmUtkjQ=',\n",
       "  'HTTPStatusCode': 200,\n",
       "  'HTTPHeaders': {'x-amz-id-2': 'gYZcumfdbRNtHx3Wc0oFchDN22sO4wp3ooB4NB+BBNXRacdb47HTRU8nsYXjnG5hzX0VOmUtkjQ=',\n",
       "   'x-amz-request-id': 'RSS6R848W3N8YDJ2',\n",
       "   'date': 'Sat, 08 Apr 2023 02:03:24 GMT',\n",
       "   'x-amz-version-id': 'bviAaHfqckX1hAp2Ww7fQZYltXoUsTiR',\n",
       "   'x-amz-server-side-encryption': 'AES256',\n",
       "   'etag': '\"90352d43d40d9ded9b41062bca6e8bf4\"',\n",
       "   'server': 'AmazonS3',\n",
       "   'content-length': '0'},\n",
       "  'RetryAttempts': 0},\n",
       " 'ETag': '\"90352d43d40d9ded9b41062bca6e8bf4\"',\n",
       " 'ServerSideEncryption': 'AES256',\n",
       " 'VersionId': 'bviAaHfqckX1hAp2Ww7fQZYltXoUsTiR'}"
      ]
     },
     "execution_count": 39,
     "metadata": {},
     "output_type": "execute_result"
    }
   ],
   "source": [
    "JOBID = analyzePDF['JobId']\n",
    "analyzePDF_results_all = GetResults(JOBID)\n",
    "outputInJsonText= str(analyzePDF_results_all)\n",
    "\n",
    "output_subdir = 'output-OCR-22_1030'\n",
    "output_filename = output_subdir + core_name + '.json'\n",
    "s3.put_object(Body=outputInJsonText, Bucket=BUCKET, Key=output_filename)"
   ]
  },
  {
   "cell_type": "code",
   "execution_count": 40,
   "id": "511c38e1",
   "metadata": {
    "ExecuteTime": {
     "end_time": "2023-04-08T02:03:26.363568Z",
     "start_time": "2023-04-08T02:03:25.870986Z"
    }
   },
   "outputs": [],
   "source": [
    "output = s3.get_object(Bucket=BUCKET, Key=output_filename)\n",
    "\n",
    "streaming_obj = output['Body']\n",
    "string_data = streaming_obj.read().decode(\"utf-8\")\n",
    "\n",
    "json_data= json.loads(string_data)"
   ]
  },
  {
   "cell_type": "code",
   "execution_count": 41,
   "id": "0001ffef",
   "metadata": {
    "ExecuteTime": {
     "end_time": "2023-04-08T02:03:26.649031Z",
     "start_time": "2023-04-08T02:03:26.368159Z"
    }
   },
   "outputs": [],
   "source": [
    "textract_json = json_data\n",
    "textractor_csv = get_string(textract_json=textract_json,\n",
    "               table_format=Pretty_Print_Table_Format.csv,\n",
    "               output_type=[Textract_Pretty_Print.TABLES, Textract_Pretty_Print.FORMS])"
   ]
  },
  {
   "cell_type": "code",
   "execution_count": 42,
   "id": "7ac676c4",
   "metadata": {
    "ExecuteTime": {
     "end_time": "2023-04-08T02:03:26.670929Z",
     "start_time": "2023-04-08T02:03:26.664715Z"
    }
   },
   "outputs": [],
   "source": [
    "prefix= '../csvs-OCR-22_1030/'\n",
    "output_file = prefix + core_name +'.csv'\n",
    "\n",
    "# replace content\n",
    "with open(output_file, \"wt\") as fout:\n",
    "    fout.write(textractor_csv)"
   ]
  },
  {
   "cell_type": "code",
   "execution_count": null,
   "id": "4cbff76a",
   "metadata": {},
   "outputs": [],
   "source": []
  }
 ],
 "metadata": {
  "kernelspec": {
   "display_name": "Python 3 (ipykernel)",
   "language": "python",
   "name": "python3"
  },
  "language_info": {
   "codemirror_mode": {
    "name": "ipython",
    "version": 3
   },
   "file_extension": ".py",
   "mimetype": "text/x-python",
   "name": "python",
   "nbconvert_exporter": "python",
   "pygments_lexer": "ipython3",
   "version": "3.9.15"
  },
  "toc": {
   "base_numbering": 1,
   "nav_menu": {},
   "number_sections": true,
   "sideBar": true,
   "skip_h1_title": false,
   "title_cell": "Table of Contents",
   "title_sidebar": "Contents",
   "toc_cell": false,
   "toc_position": {},
   "toc_section_display": true,
   "toc_window_display": false
  }
 },
 "nbformat": 4,
 "nbformat_minor": 5
}

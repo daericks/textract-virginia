{
 "cells": [
  {
   "cell_type": "code",
   "execution_count": 8,
   "id": "db8ae5d0",
   "metadata": {
    "ExecuteTime": {
     "end_time": "2021-09-22T22:17:40.738928Z",
     "start_time": "2021-09-22T22:17:35.346851Z"
    }
   },
   "outputs": [
    {
     "data": {
      "text/plain": [
       "116"
      ]
     },
     "execution_count": 8,
     "metadata": {},
     "output_type": "execute_result"
    }
   ],
   "source": [
    "import boto3\n",
    "\n",
    "BUCKET= 'andrew-ocr'\n",
    "\n",
    "REGION = aws_region = boto3.session.Session().region_name # 'us-west-2'\n",
    "s3 = boto3.client('s3', REGION)\n",
    "\n",
    "output = s3.get_object(Bucket=BUCKET, Key='output-part1.json')\n",
    "\n",
    "streaming_obj = output['Body']\n",
    "string_data = streaming_obj.read().decode(\"utf-8\")\n",
    "\n",
    "json_data= json.loads(string_data)\n",
    "\n",
    "len(json_data)"
   ]
  },
  {
   "cell_type": "code",
   "execution_count": 11,
   "id": "afd185c9",
   "metadata": {
    "ExecuteTime": {
     "end_time": "2021-09-22T22:18:13.364020Z",
     "start_time": "2021-09-22T22:18:13.353162Z"
    }
   },
   "outputs": [
    {
     "data": {
      "text/plain": [
       "dict_keys(['DocumentMetadata', 'JobStatus', 'NextToken', 'Blocks', 'AnalyzeDocumentModelVersion', 'ResponseMetadata'])"
      ]
     },
     "execution_count": 11,
     "metadata": {},
     "output_type": "execute_result"
    }
   ],
   "source": [
    "json_data[0].keys()"
   ]
  },
  {
   "cell_type": "code",
   "execution_count": null,
   "id": "aceee85e",
   "metadata": {},
   "outputs": [],
   "source": []
  },
  {
   "cell_type": "code",
   "execution_count": 2,
   "id": "11b88ad0",
   "metadata": {
    "ExecuteTime": {
     "end_time": "2021-09-22T22:12:36.536442Z",
     "start_time": "2021-09-22T22:12:36.433330Z"
    }
   },
   "outputs": [],
   "source": [
    "import textractor"
   ]
  },
  {
   "cell_type": "code",
   "execution_count": 15,
   "id": "715d568c",
   "metadata": {
    "ExecuteTime": {
     "end_time": "2021-09-22T22:29:07.669391Z",
     "start_time": "2021-09-22T22:29:00.970163Z"
    }
   },
   "outputs": [],
   "source": [
    "# from textractcaller.t_call import call_textract, Textract_Features\n",
    "from textractprettyprinter.t_pretty_print import Pretty_Print_Table_Format, Textract_Pretty_Print, get_string\n",
    "\n",
    "# textract_json = call_textract(input_document=input_document, features=[Textract_Features.FORMS, Textract_Features.TABLES])\n",
    "textract_json = json_data\n",
    "textractor_csv = get_string(textract_json=textract_json,\n",
    "               table_format=Pretty_Print_Table_Format.csv,\n",
    "               output_type=[Textract_Pretty_Print.TABLES, Textract_Pretty_Print.FORMS])\n"
   ]
  },
  {
   "cell_type": "code",
   "execution_count": 17,
   "id": "cb3fc9b1",
   "metadata": {
    "ExecuteTime": {
     "end_time": "2021-09-22T22:29:59.912506Z",
     "start_time": "2021-09-22T22:29:59.903198Z"
    }
   },
   "outputs": [],
   "source": [
    "prefix= 'csvs/'\n",
    "output_file = prefix+ 'textractor-part1' +'.csv'\n",
    "\n",
    "# replace content\n",
    "with open(output_file, \"wt\") as fout:\n",
    "    fout.write(textractor_csv)"
   ]
  },
  {
   "cell_type": "code",
   "execution_count": null,
   "id": "76dd910a",
   "metadata": {},
   "outputs": [],
   "source": []
  }
 ],
 "metadata": {
  "kernelspec": {
   "display_name": "Python 3 (ipykernel)",
   "language": "python",
   "name": "python3"
  },
  "language_info": {
   "codemirror_mode": {
    "name": "ipython",
    "version": 3
   },
   "file_extension": ".py",
   "mimetype": "text/x-python",
   "name": "python",
   "nbconvert_exporter": "python",
   "pygments_lexer": "ipython3",
   "version": "3.9.9"
  },
  "toc": {
   "base_numbering": 1,
   "nav_menu": {},
   "number_sections": true,
   "sideBar": true,
   "skip_h1_title": false,
   "title_cell": "Table of Contents",
   "title_sidebar": "Contents",
   "toc_cell": false,
   "toc_position": {},
   "toc_section_display": true,
   "toc_window_display": false
  }
 },
 "nbformat": 4,
 "nbformat_minor": 5
}
